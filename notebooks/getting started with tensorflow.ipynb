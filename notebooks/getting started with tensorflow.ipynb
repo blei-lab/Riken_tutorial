{
 "metadata": {
  "name": "",
  "signature": "sha256:800e4a8297ad134f1972088a5689e686f7c0fbacc28550c4b8da17fc227b9553"
 },
 "nbformat": 3,
 "nbformat_minor": 0,
 "worksheets": [
  {
   "cells": [
    {
     "cell_type": "markdown",
     "metadata": {},
     "source": [
      "## Getting started with tensorflow\n",
      "\n",
      "For more information, check out \n",
      "https://www.tensorflow.org/get_started/get_started\n",
      "\n",
      "here we introduce\n",
      "\n",
      "  * `tf.constant()`\n",
      "  * `tf.InteractiveSession()`, `.eval()`, `sess.run()`\n",
      "  * `tf.placeholder()`\n",
      "  * `tf.Variable()`\n",
      "  * `tf.train()`"
     ]
    },
    {
     "cell_type": "code",
     "collapsed": false,
     "input": [
      "import tensorflow as tf\n",
      "import numpy as np\n",
      "import matplotlib.pyplot as plt\n",
      "%matplotlib inline"
     ],
     "language": "python",
     "metadata": {},
     "outputs": []
    },
    {
     "cell_type": "code",
     "collapsed": false,
     "input": [
      "a = np.random.randn(5,7)"
     ],
     "language": "python",
     "metadata": {},
     "outputs": []
    },
    {
     "cell_type": "code",
     "collapsed": false,
     "input": [
      "b = tf.constant(a)"
     ],
     "language": "python",
     "metadata": {},
     "outputs": []
    },
    {
     "cell_type": "code",
     "collapsed": false,
     "input": [
      "b"
     ],
     "language": "python",
     "metadata": {},
     "outputs": []
    },
    {
     "cell_type": "code",
     "collapsed": false,
     "input": [
      "c = a*b"
     ],
     "language": "python",
     "metadata": {},
     "outputs": []
    },
    {
     "cell_type": "code",
     "collapsed": false,
     "input": [
      "c"
     ],
     "language": "python",
     "metadata": {},
     "outputs": []
    },
    {
     "cell_type": "code",
     "collapsed": false,
     "input": [
      "a"
     ],
     "language": "python",
     "metadata": {},
     "outputs": []
    },
    {
     "cell_type": "markdown",
     "metadata": {},
     "source": [
      "## Evaluating the computational graph with tensorflow sessions"
     ]
    },
    {
     "cell_type": "code",
     "collapsed": false,
     "input": [
      "sess = tf.InteractiveSession() #sess = tf.Session()"
     ],
     "language": "python",
     "metadata": {},
     "outputs": []
    },
    {
     "cell_type": "code",
     "collapsed": false,
     "input": [
      "c.eval()"
     ],
     "language": "python",
     "metadata": {},
     "outputs": []
    },
    {
     "cell_type": "code",
     "collapsed": false,
     "input": [
      "c.eval() == a*a"
     ],
     "language": "python",
     "metadata": {},
     "outputs": []
    },
    {
     "cell_type": "code",
     "collapsed": false,
     "input": [
      "x = np.random.randn(2,2)"
     ],
     "language": "python",
     "metadata": {},
     "outputs": []
    },
    {
     "cell_type": "code",
     "collapsed": false,
     "input": [
      "y = tf.random_normal([2,2])"
     ],
     "language": "python",
     "metadata": {},
     "outputs": []
    },
    {
     "cell_type": "code",
     "collapsed": false,
     "input": [
      "y.eval()"
     ],
     "language": "python",
     "metadata": {},
     "outputs": []
    },
    {
     "cell_type": "code",
     "collapsed": false,
     "input": [
      "y.eval()"
     ],
     "language": "python",
     "metadata": {},
     "outputs": []
    },
    {
     "cell_type": "code",
     "collapsed": false,
     "input": [
      "sess.run([y, y, b])"
     ],
     "language": "python",
     "metadata": {},
     "outputs": []
    },
    {
     "cell_type": "code",
     "collapsed": false,
     "input": [
      "sess.run([y, y, b])"
     ],
     "language": "python",
     "metadata": {},
     "outputs": []
    },
    {
     "cell_type": "markdown",
     "metadata": {},
     "source": [
      "## Placeholders"
     ]
    },
    {
     "cell_type": "code",
     "collapsed": false,
     "input": [
      "x_ph = tf.placeholder('float32')"
     ],
     "language": "python",
     "metadata": {},
     "outputs": []
    },
    {
     "cell_type": "code",
     "collapsed": false,
     "input": [
      "z = tf.matmul(y,x_ph)"
     ],
     "language": "python",
     "metadata": {},
     "outputs": []
    },
    {
     "cell_type": "code",
     "collapsed": false,
     "input": [
      "z.eval()\n",
      "#z.eval(feed_dict={x_ph : tf.ones_like(z)})\n",
      "\n",
      "#z.eval(feed_dict={x_ph : np.ones((2,2)).astype('float32')})"
     ],
     "language": "python",
     "metadata": {},
     "outputs": []
    },
    {
     "cell_type": "code",
     "collapsed": false,
     "input": [
      "sess.run([z], feed_dict={x_ph : np.ones((2,4)).astype('float32')})"
     ],
     "language": "python",
     "metadata": {},
     "outputs": []
    },
    {
     "cell_type": "markdown",
     "metadata": {},
     "source": [
      "## Variables and how to optimize them"
     ]
    },
    {
     "cell_type": "code",
     "collapsed": false,
     "input": [
      "W = tf.Variable([.5], tf.float32)\n",
      "b = tf.Variable([-.5], tf.float32)\n",
      "linear_model = W * x_ph + b"
     ],
     "language": "python",
     "metadata": {},
     "outputs": []
    },
    {
     "cell_type": "code",
     "collapsed": false,
     "input": [
      "init = tf.global_variables_initializer()\n",
      "sess.run(init)"
     ],
     "language": "python",
     "metadata": {},
     "outputs": []
    },
    {
     "cell_type": "code",
     "collapsed": false,
     "input": [
      "x_data = np.linspace(1, 4, num=100)\n",
      "y_data = np.random.randn(100)\n",
      "plt.plot(x_data, linear_model.eval({x_ph:x_data}), c='red')\n",
      "plt.scatter(x_data,y_data)"
     ],
     "language": "python",
     "metadata": {},
     "outputs": []
    },
    {
     "cell_type": "code",
     "collapsed": false,
     "input": [
      "y_ph = tf.placeholder(tf.float32)\n",
      "loss = tf.reduce_sum(tf.square(linear_model - y_ph))"
     ],
     "language": "python",
     "metadata": {},
     "outputs": []
    },
    {
     "cell_type": "code",
     "collapsed": false,
     "input": [
      "loss.eval({x_ph: x_data, y_ph : y_data})"
     ],
     "language": "python",
     "metadata": {},
     "outputs": []
    },
    {
     "cell_type": "code",
     "collapsed": false,
     "input": [
      "optimizer = tf.train.GradientDescentOptimizer(0.001)\n",
      "train = optimizer.minimize(loss)"
     ],
     "language": "python",
     "metadata": {},
     "outputs": []
    },
    {
     "cell_type": "code",
     "collapsed": false,
     "input": [
      "for i in range(10):\n",
      "  sess.run(train, {x_ph:x_data, y_ph:y_data})"
     ],
     "language": "python",
     "metadata": {},
     "outputs": []
    },
    {
     "cell_type": "code",
     "collapsed": false,
     "input": [
      "plt.plot(x_data,linear_model.eval({x_ph:x_data}), c= 'red')\n",
      "plt.scatter(x_data,y_data)"
     ],
     "language": "python",
     "metadata": {},
     "outputs": []
    },
    {
     "cell_type": "markdown",
     "metadata": {},
     "source": [
      "we learned about\n",
      "\n",
      "  * `tf.constant()`\n",
      "  * `tf.InteractiveSession()`, `.eval()`, `sess.run()`\n",
      "  * `tf.placeholder()`\n",
      "  * `tf.Variable()`\n",
      "  * `tf.train()`"
     ]
    }
   ],
   "metadata": {}
  }
 ]
}