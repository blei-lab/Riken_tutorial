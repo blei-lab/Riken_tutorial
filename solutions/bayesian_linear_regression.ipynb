{
 "metadata": {
  "kernelspec": {
   "display_name": "Python 2",
   "language": "python",
   "name": "python2"
  },
  "language_info": {
   "codemirror_mode": {
    "name": "ipython",
    "version": 2
   },
   "file_extension": ".py",
   "mimetype": "text/x-python",
   "name": "python",
   "nbconvert_exporter": "python",
   "pygments_lexer": "ipython2",
   "version": "2.7.12"
  },
  "name": "",
  "signature": "sha256:0d4177c3bdbf80132104f3194f9be05d3ddec327a26b96dfc019b290ae227ed4"
 },
 "nbformat": 3,
 "nbformat_minor": 0,
 "worksheets": [
  {
   "cells": [
    {
     "cell_type": "markdown",
     "metadata": {
      "collapsed": true
     },
     "source": [
      "## Bayesian Linear Regression (Solutions)"
     ]
    },
    {
     "cell_type": "code",
     "collapsed": false,
     "input": [
      "from __future__ import absolute_import\n",
      "from __future__ import division\n",
      "from __future__ import print_function\n",
      "\n",
      "import edward as ed\n",
      "import matplotlib.pyplot as plt\n",
      "import numpy as np\n",
      "import tensorflow as tf\n",
      "\n",
      "from edward.models import Normal\n",
      "from scipy.stats import norm\n",
      "%matplotlib inline"
     ],
     "language": "python",
     "metadata": {},
     "outputs": [],
     "prompt_number": 19
    },
    {
     "cell_type": "markdown",
     "metadata": {},
     "source": [
      "We build our toy dataset. They comprise of\n",
      "pairs of inputs $\\mathbf{x}_n\\in\\mathbb{R}^{10}$ and outputs\n",
      "$y_n\\in\\mathbb{R}$. They have a linear dependence with normally\n",
      "distributed noise."
     ]
    },
    {
     "cell_type": "code",
     "collapsed": false,
     "input": [
      "def build_toy_dataset(N, noise_std=0.5):\n",
      "  X = np.concatenate([np.linspace(0, 2, num=N / 2),\n",
      "                      np.linspace(6, 8, num=N / 2)])\n",
      "  y = 2.0 * X + 10 * norm.rvs(0, noise_std, size=N)\n",
      "  X = X.reshape((N, 1))\n",
      "  return X.astype(np.float32), y.astype(np.float32)"
     ],
     "language": "python",
     "metadata": {},
     "outputs": [],
     "prompt_number": 20
    },
    {
     "cell_type": "markdown",
     "metadata": {},
     "source": [
      " Simulate training and test sets of $40$ data points."
     ]
    },
    {
     "cell_type": "code",
     "collapsed": false,
     "input": [
      "N = 40  # num data points\n",
      "D = 1  # num features\n",
      "\n",
      "# DATA\n",
      "X_train, y_train = build_toy_dataset(N)\n",
      "X_test, y_test = build_toy_dataset(N)\n",
      "\n",
      "plt.scatter(X_train, y_train);"
     ],
     "language": "python",
     "metadata": {},
     "outputs": [
      {
       "metadata": {},
       "output_type": "display_data",
       "png": "[encoded data removed]",
       "text": [
        "<matplotlib.figure.Figure at 0x7f9e73e61e10>"
       ]
      }
     ],
     "prompt_number": 3
    },
    {
     "cell_type": "heading",
     "level": 3,
     "metadata": {},
     "source": [
      "Model"
     ]
    },
    {
     "cell_type": "markdown",
     "metadata": {},
     "source": [
      "Posit the model as Bayesian linear regression. For more details on the model, see the [Bayesian linear regression tutorial](http://edwardlib.org/tutorials/bayesian-linear-regression).\n",
      "\n",
      "Here we build the model in Edward\u2019s native language."
     ]
    },
    {
     "cell_type": "code",
     "collapsed": false,
     "input": [
      "# MODEL\n",
      "\n",
      "# placeholder for the data\n",
      "X = tf.placeholder(tf.float32, [N, D])\n",
      "\n",
      "# priors on the latent variables\n",
      "w = Normal(mu=tf.zeros(D), sigma=tf.ones(D))\n",
      "b = Normal(mu=tf.zeros(1), sigma=tf.ones(1))\n",
      "\n",
      "# likelihood of the data\n",
      "y = Normal(mu=ed.dot(X, w) + b, sigma=tf.ones(N))"
     ],
     "language": "python",
     "metadata": {},
     "outputs": [],
     "prompt_number": 4
    },
    {
     "cell_type": "markdown",
     "metadata": {},
     "source": [
      "### Inference\n",
      "\n",
      "Perform variational inference. Define the variational model to be a fully factorized normal across the weights."
     ]
    },
    {
     "cell_type": "code",
     "collapsed": false,
     "input": [
      "# INFERENCE\n",
      "qw = Normal(mu=tf.Variable(tf.random_normal([D])),\n",
      "            sigma=tf.nn.softplus(tf.Variable(tf.random_normal([D]))))\n",
      "qb = Normal(mu=tf.Variable(tf.random_normal([1])),\n",
      "            sigma=tf.nn.softplus(tf.Variable(tf.random_normal([1]))))"
     ],
     "language": "python",
     "metadata": {},
     "outputs": [],
     "prompt_number": 5
    },
    {
     "cell_type": "markdown",
     "metadata": {},
     "source": [
      "Run mean-field variational inference for 1000 iterations."
     ]
    },
    {
     "cell_type": "code",
     "collapsed": false,
     "input": [
      "data = {X: X_train, y: y_train}\n",
      "inference = ed.KLqp({w: qw, b: qb}, data)\n",
      "inference.run()"
     ],
     "language": "python",
     "metadata": {},
     "outputs": [
      {
       "output_type": "stream",
       "stream": "stdout",
       "text": [
        "Iteration    1 [  0%]: Loss = 3803.761\n",
        "Iteration  100 [ 10%]: Loss = 398.593\n",
        "Iteration  200 [ 20%]: Loss = 394.174"
       ]
      },
      {
       "output_type": "stream",
       "stream": "stdout",
       "text": [
        "\n",
        "Iteration  300 [ 30%]: Loss = 394.008\n",
        "Iteration  400 [ 40%]: Loss = 393.582"
       ]
      },
      {
       "output_type": "stream",
       "stream": "stdout",
       "text": [
        "\n",
        "Iteration  500 [ 50%]: Loss = 393.781"
       ]
      },
      {
       "output_type": "stream",
       "stream": "stdout",
       "text": [
        "\n",
        "Iteration  600 [ 60%]: Loss = 393.905\n",
        "Iteration  700 [ 70%]: Loss = 393.984"
       ]
      },
      {
       "output_type": "stream",
       "stream": "stdout",
       "text": [
        "\n",
        "Iteration  800 [ 80%]: Loss = 394.704"
       ]
      },
      {
       "output_type": "stream",
       "stream": "stdout",
       "text": [
        "\n",
        "Iteration  900 [ 90%]: Loss = 403.384\n",
        "Iteration 1000 [100%]: Loss = 396.183"
       ]
      },
      {
       "output_type": "stream",
       "stream": "stdout",
       "text": [
        "\n"
       ]
      }
     ],
     "prompt_number": 21
    },
    {
     "cell_type": "markdown",
     "metadata": {},
     "source": [
      "In this case we minimize with the $\\text{KL}(q\\|p)$ divergence measure using the reparameterization\n",
      "gradient.\n",
      "For more details on inference, see the $\\text{KL}(q\\|p)$ tutorial} - [link](http://edwardlib.org/tutorials/klqp)"
     ]
    },
    {
     "cell_type": "markdown",
     "metadata": {},
     "source": [
      "### Critisicm \n",
      "\n",
      "Use point-based evaluation, and calculate the mean squared error for predictions on test data.\n",
      "\n",
      "We do this first by forming the posterior predictive distribution.\n",
      "\n",
      "### Exercise:\n",
      "`w` and `b` need to be replaced by point estimates from the posterior. Use the random variables' method `mean()` to fill in the question marks below with point estimates from the variational distribution"
     ]
    },
    {
     "cell_type": "code",
     "collapsed": false,
     "input": [
      "#CRITICISM\n",
      "y_post = Normal(mu=ed.dot(X, qw.mean()) + qb.mean(), sigma=tf.ones(N))"
     ],
     "language": "python",
     "metadata": {},
     "outputs": [],
     "prompt_number": 22
    },
    {
     "cell_type": "markdown",
     "metadata": {},
     "source": [
      "Evaluate predictions from the posterior predictive."
     ]
    },
    {
     "cell_type": "code",
     "collapsed": false,
     "input": [
      "print(\"test mean squared error: {:.3f}\".format(\n",
      "        ed.evaluate('mean_squared_error', data={X: X_test, y_post: y_test})))"
     ],
     "language": "python",
     "metadata": {},
     "outputs": [
      {
       "output_type": "stream",
       "stream": "stdout",
       "text": [
        "test mean squared error: 24.550\n"
       ]
      }
     ],
     "prompt_number": 23
    },
    {
     "cell_type": "markdown",
     "metadata": {},
     "source": [
      "The trained model makes predictions with low mean squared error (relative to the magnitude of the output)."
     ]
    },
    {
     "cell_type": "markdown",
     "metadata": {},
     "source": [
      "### Visualisation\n",
      "\n",
      "Let's visualise the samples from the prior and the posterior.\n",
      "Let's first define a small helper method which does the visualisation for us."
     ]
    },
    {
     "cell_type": "code",
     "collapsed": true,
     "input": [
      "def visualise(X_train, y_train, w_samples, b_samples):\n",
      "    #evaluate tf graph\n",
      "    ws = w_samples.eval()\n",
      "    bs = b_samples.eval()\n",
      "    # set up plotting\n",
      "    plt.scatter(X_train, y_train)\n",
      "    inputs = np.linspace(-1, 10, num=400, dtype=np.float32)\n",
      "    for ns in range(ws.shape[0]):\n",
      "        output = inputs * ws[ns] + bs[ns]\n",
      "        plt.plot(inputs, output)"
     ],
     "language": "python",
     "metadata": {},
     "outputs": [],
     "prompt_number": 24
    },
    {
     "cell_type": "markdown",
     "metadata": {},
     "source": [
      "### Exercise\n",
      "We want to visualize samples from the prior. In Edward, the random variables have a `sample()` mathod. Use it to draw samples from the prior and visualize them"
     ]
    },
    {
     "cell_type": "code",
     "collapsed": false,
     "input": [
      "# samples from the prior\n",
      "S = 10\n",
      "# first we sample from w an b as they are the prior\n",
      "w_samples = w.sample(S)\n",
      "b_samples = b.sample(S)\n",
      "# we pass w and b as it is the prior\n",
      "\n",
      "visualise(X_train, y_train, w_samples, b_samples)"
     ],
     "language": "python",
     "metadata": {},
     "outputs": [
      {
       "metadata": {},
       "output_type": "display_data",
       "png": "[encoded data removed]",
       "text": [
        "<matplotlib.figure.Figure at 0x7f9e4da27b10>"
       ]
      }
     ],
     "prompt_number": 25
    },
    {
     "cell_type": "markdown",
     "metadata": {},
     "source": [
      "### Exercise\n",
      "\n",
      "Now, rather than sampling from the prior, let's sample from the variational distribution"
     ]
    },
    {
     "cell_type": "code",
     "collapsed": false,
     "input": [
      "# samples from the posterior\n",
      "S = 10\n",
      "# now sample from the variational distribution\n",
      "w_samples = qw.sample(S)\n",
      "b_samples = qb.sample(S)\n",
      "\n",
      "visualise(X_train, y_train, w_samples, b_samples)"
     ],
     "language": "python",
     "metadata": {},
     "outputs": [
      {
       "metadata": {},
       "output_type": "display_data",
       "png": "[encoded data removed]",
       "text": [
        "<matplotlib.figure.Figure at 0x7f9e4d96cf50>"
       ]
      }
     ],
     "prompt_number": 26
    },
    {
     "cell_type": "code",
     "collapsed": false,
     "input": [],
     "language": "python",
     "metadata": {},
     "outputs": []
    }
   ],
   "metadata": {}
  }
 ]
}